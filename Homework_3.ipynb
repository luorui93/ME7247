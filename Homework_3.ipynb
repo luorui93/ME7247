{
 "cells": [
  {
   "cell_type": "code",
   "execution_count": 89,
   "metadata": {},
   "outputs": [],
   "source": [
    "import numpy as np\n",
    "import matplotlib.pyplot as plt\n",
    "from scipy import stats\n",
    "\n",
    "plt.rcParams.update({\n",
    "    \"text.usetex\": True,\n",
    "    \"font.size\": 12,\n",
    "    \"font.family\": \"sans-serif\",\n",
    "    \"font.sans-serif\": [\"Helvetica\"],\n",
    "    \"text.latex.preamble\": r'\\usepackage{amsfonts}',\n",
    "}\n",
    ")\n"
   ]
  },
  {
   "cell_type": "markdown",
   "metadata": {},
   "source": [
    "## Q1(a)\n",
    "The normal equation for least square problem is: \n",
    "$$A^TAx = A^Tb$$\n",
    "Since we only have $k$ measurements, substitute the new $A$ and $b$ we can get:\n",
    "$$[\\tilde{a}_1 \\tilde{a}_2 \\ldots \\tilde{a}_k]\\begin{bmatrix}\n",
    "\\tilde{a}^T_1 \\\\ \\tilde{a}^T_2 \\\\ \\vdots \\\\ \\tilde{a}^T_k\n",
    "\\end{bmatrix}x = [\\tilde{a}_1 \\tilde{a}_2 \\ldots \\tilde{a}_k]\\begin{bmatrix}\n",
    "b_1 \\\\ b_2 \\\\ \\vdots \\\\ b_k\n",
    "\\end{bmatrix}$$\n",
    "Expand the above equation and substitue $x = \\hat{x}_k$, we have:\n",
    "$$\n",
    "\\left(\\sum_{i=1}^k\\tilde{a}_i\\tilde{a}_i^T\\right)\\hat{x}_k = \\sum_{i=1}^kb_i\\tilde{a}_i\\tag*{$\\blacksquare$}\n",
    "$$\n"
   ]
  },
  {
   "cell_type": "markdown",
   "metadata": {},
   "source": [
    "## Q1(b)\n",
    "Given the matrix inversion lemma:\n",
    "$$ \\left(A-BD^{-1}C\\right)^{-1} = A^{-1} + A^{-1}B\\left(D-CA^{-1}B\\right)^{-1}C$$\n",
    "Let $A = P_k, B=-\\tilde{a}_{k+1}, C=\\tilde{a}_{k+1}^T, D=1$\n",
    "We can rewrite the update of $P_{k+1}^{-1}$ as:\n",
    "\\begin{align*} \n",
    "(P_k + \\tilde{a}_{k+1}\\tilde{a}^T_{k+1})^{-1} & = P_k^{-1} - P_k^{-1}\\tilde{a}_{k+1}(1+\\tilde{a}_{k+1}^TP_k^{-1}\\tilde{a}_{k+1})\\tilde{a}_{k+1}^T \\\\\n",
    "&=P_k^{-1} - P_k^{-1}\\frac{\\tilde{a}_{k+1}\\tilde{a}_{k+1}^T}{1 + \\tilde{a}_{k+1}^TP^{-1}_k \\tilde{a}_{k+1}}\n",
    "\\end{align*}\n",
    "\n",
    "Because $\\tilde{a}_{k+1}^TP^{-1}_k \\tilde{a}_{k+1}$ is a scalar, so we only need to calculate the inverse of a scalar instead of a matrix, which saves computation a lot."
   ]
  },
  {
   "cell_type": "markdown",
   "metadata": {},
   "source": [
    "## Q2(a)\n",
    "First we can calcualte the joint distribution of $[x,y]^T$ as:\n",
    "$$\\begin{bmatrix}x \\\\ y\\end{bmatrix} = \\begin{bmatrix}F & I & 0 \\\\G & 0 & I \\end{bmatrix}\\begin{bmatrix}z \\\\ v \\\\ w\\end{bmatrix}\n",
    "\\sim \\mathcal{N}\\left(\\begin{bmatrix}F\\bar{z}+\\bar{v} \\\\ G\\bar{z}+\\bar{w}\\end{bmatrix},\\begin{bmatrix}F & I & 0 \\\\G & 0 & I \\end{bmatrix}\n",
    "\\begin{bmatrix}\\Sigma_z &  & \\\\ & \\Sigma_v & \\\\ & & \\Sigma_w\\end{bmatrix}\n",
    "\\begin{bmatrix}F^T & G^T\\\\ I & 0 \\\\ 0 & I \\end{bmatrix}\\right)\n",
    "$$\n",
    "\n",
    "\n",
    "$$\\Rightarrow \\begin{bmatrix}x \\\\ y\\end{bmatrix} \\sim \\mathcal{N}\\left(\n",
    "\\begin{bmatrix}F\\bar{z}+\\bar{v} \\\\ G\\bar{z}+\\bar{w}\\end{bmatrix},\n",
    "\\begin{bmatrix}\n",
    "F\\Sigma_zF^T+\\Sigma_v & F\\Sigma_zG^T\\\\\n",
    "G\\Sigma_zF^T & G\\Sigma_zG^T+\\Sigma_w\n",
    "\\end{bmatrix}\n",
    "\\right)$$\n",
    "\n",
    "We can then obtain $\\Sigma_{xy} = F\\Sigma_zG^T$. \n",
    "Based on the normal distribution conditional probability equation, we can write the mean and covariance matrix of $P(x|y)$, which are also the MMSE estimator:\n",
    "\n",
    "\\begin{align*}\n",
    "\\mathrm{MMSE}_{x|y} = E(x|y) & = \\mu_x + \\Sigma_{xy}\\Sigma_y^{-1}(y-\\mu_y)\\\\\n",
    "&=F\\bar{z} + \\bar{v} + F\\Sigma_zG^T(G\\Sigma_zG^T+\\Sigma_w)^{-1}(y-G\\bar{z}-\\bar{w})\\\\\n",
    "Cov(x|y) & = \\Sigma_x - \\Sigma_{xy}\\Sigma_y^{-1}\\Sigma_{yx}\\\\\n",
    "&= F\\Sigma_zF^T + \\Sigma_v - F\\Sigma_zG^T(G\\Sigma_zG^T+\\Sigma_w)^{-1}G\\Sigma_zF^T\n",
    "\\end{align*}"
   ]
  },
  {
   "cell_type": "markdown",
   "metadata": {},
   "source": [
    "## Q2(b)\n",
    "Knowing that $v$ and $w$ are identical does not necessariliy reduce the error in estimation. This depends on the reltionship between $\\Sigma_w$ and $\\Sigma_v$. \n",
    "First, let's write out the new MMSE estimator and the associated covariance given $v=w$.\n",
    "The joint distribution can now be written as:\n",
    "\n",
    "$$\\begin{bmatrix}x \\\\ y\\end{bmatrix} = \\begin{bmatrix}F & I\\\\G & I \\end{bmatrix}\\begin{bmatrix}z \\\\ v\\end{bmatrix}\n",
    "\\sim \\mathcal{N}\\left(\\begin{bmatrix}F\\bar{z}+\\bar{v} \\\\ G\\bar{z}+\\bar{v}\\end{bmatrix},\\begin{bmatrix}F & I\\\\G & I \\end{bmatrix}\n",
    "\\begin{bmatrix}\\Sigma_z &  \\\\ & \\Sigma_v \\end{bmatrix}\n",
    "\\begin{bmatrix}F^T & G^T\\\\ I & I\\end{bmatrix}\\right)\n",
    "$$\n",
    "$$\\Rightarrow \\begin{bmatrix}x \\\\ y\\end{bmatrix} \\sim \\mathcal{N}\\left(\n",
    "\\begin{bmatrix}F\\bar{z}+\\bar{v} \\\\ G\\bar{z}+\\bar{v}\\end{bmatrix},\n",
    "\\begin{bmatrix}\n",
    "F\\Sigma_zF^T+\\Sigma_v & F\\Sigma_zG^T + \\Sigma_v\\\\\n",
    "G\\Sigma_zF^T  + \\Sigma_v& G\\Sigma_zG^T+\\Sigma_v\n",
    "\\end{bmatrix}\n",
    "\\right)$$\n",
    "\n",
    "The new MMSE estimator and its associate covariance are:\n",
    "\\begin{align*}\n",
    "\\mathrm{MMSE}_{x|y} = E(x|y) & = \\mu_x + \\Sigma_{xy}\\Sigma_y^{-1}(y-\\mu_y)\\\\\n",
    "&=F\\bar{z} + \\bar{v} + (F\\Sigma_zG^T+\\Sigma_v)(G\\Sigma_zG^T+\\Sigma_v)^{-1}(y-G\\bar{z}-\\bar{w})\\\\\n",
    "Cov(x|y) & = \\Sigma_x - \\Sigma_{xy}\\Sigma_y^{-1}\\Sigma_{yx}\\\\\n",
    "&= F\\Sigma_zF^T + \\Sigma_v - (F\\Sigma_zG^T+\\Sigma_v)(G\\Sigma_zG^T+\\Sigma_v)^{-1}(G\\Sigma_zF^T+\\Sigma_v)\n",
    "\\end{align*}\n",
    "\n",
    "Because we know $\\mathrm{MSE}(x|y) = \\mathrm{tr}(Cov(x|y))$, essential we need to compare the following two values:\n",
    "\\begin{align*}\n",
    "\\mathrm{MSE}_a &= \\mathrm{Tr}\\left(F\\Sigma_zF^T + \\Sigma_v - F\\Sigma_zG^T(G\\Sigma_zG^T+\\Sigma_w)^{-1}G\\Sigma_zF^T\\right)\\\\\n",
    "\\mathrm{MSE}_b &= \\mathrm{Tr}\\left(F\\Sigma_zF^T + \\Sigma_v - (F\\Sigma_zG^T+\\Sigma_v)(G\\Sigma_zG^T+\\Sigma_v)^{-1}(G\\Sigma_zF^T+\\Sigma_v)\\right)\n",
    "\\end{align*}\n",
    "\n",
    "To simplify this, let $F=G=I$, $\\Sigma_z=I$\n",
    "The above two equations can be written as:\n",
    "\\begin{align*}\n",
    "\\mathrm{MSE}_a &= \\mathrm{Tr}(I + \\Sigma_v - (I + \\Sigma_w)^{-1})\\\\\n",
    "\\mathrm{MSE}_b &= \\mathrm{Tr}(I + \\Sigma_v - (I + \\Sigma_v)(I + \\Sigma_v)^{-1}(I + \\Sigma_v)) \\\\\n",
    "&=\\mathrm{Tr}(I + \\Sigma_v - (I+\\Sigma_v))\n",
    "\\end{align*}\n",
    "\n",
    "So we are actually comparing $\\Sigma_v$ and $\\Sigma_w$. If $\\Sigma_w \\succ \\Sigma_v$, then knowing $w = v$ improves the result. However, if $\\Sigma_w \\prec \\Sigma_v$, knowing $w = v$ actually worsens the estimation."
   ]
  },
  {
   "cell_type": "markdown",
   "metadata": {},
   "source": [
    "## Q3(a)\n",
    "For a rough estimation, the 95% interval is $[\\mu - 2\\sigma, \\mu + 2\\sigma]$, so the confidence interval in this case is $[-3.5, 4.5]$\n",
    "To calculate a more precise result, we can use the `scipy.norm.interval` function in `scipy` package:"
   ]
  },
  {
   "cell_type": "code",
   "execution_count": 44,
   "metadata": {},
   "outputs": [
    {
     "name": "stdout",
     "output_type": "stream",
     "text": [
      "The 95% interval is:  (-3.419927969080108, 4.419927969080108)\n"
     ]
    }
   ],
   "source": [
    "print('The 95% interval is: ', scipy.stats.norm.interval(0.95, loc=0.5, scale=2))"
   ]
  },
  {
   "cell_type": "markdown",
   "metadata": {},
   "source": [
    "## Q3(b)\n",
    "The joint distribution of $x$ and $y_1$ can be written as:\n",
    "$$\\begin{bmatrix}x \\\\ y_1\\end{bmatrix} = \\begin{bmatrix}I & 0 \\\\I & I \\end{bmatrix}\\begin{bmatrix}x \\\\ w\\end{bmatrix}\n",
    "\\sim \\mathcal{N}\\left(\\begin{bmatrix}\\mu_x \\\\ \\mu_x+\\mu_w\\end{bmatrix},\\begin{bmatrix}I & 0 \\\\I & I \\end{bmatrix}\\begin{bmatrix}\\sigma_x^2 & \\\\ & \\sigma_w^2\\end{bmatrix}\n",
    "\\begin{bmatrix}I & I\\\\0 & I\\end{bmatrix}\\right)\n",
    "$$\n",
    "So we have:\n",
    "$$\n",
    "\\Sigma_{xy} = \\Sigma_{yx} = \\Sigma_x, \\;\\;\\; \\Sigma_y = \\Sigma_x + \\Sigma_w \n",
    "$$\n",
    "where $\\Sigma_x = \\sigma_x^2$ and $\\Sigma_w = \\sigma_w^2$. \n",
    "\n",
    "According to the equation of conditional probability $P(x|y)$, the mean and variance of the updated normal distribution is:\n",
    "$$ E(x|y_1) = \\mu_x + \\frac{\\sigma_x^2}{\\sigma_x^2+\\sigma_w^2}(y_1-\\mu_x) = 1.06$$\n",
    "$$ Cov(x|y_1) = \\sigma_x^2 - \\frac{\\sigma_x^2}{\\sigma_x^2+\\sigma_w^2}\\sigma_x^2 = 0.8$$"
   ]
  },
  {
   "cell_type": "code",
   "execution_count": 45,
   "metadata": {},
   "outputs": [
    {
     "name": "stdout",
     "output_type": "stream",
     "text": [
      "The 95% interval is:  (-0.693045081153163, 2.813045081153163)\n"
     ]
    }
   ],
   "source": [
    "print('The 95% interval is: ', scipy.stats.norm.interval(0.95, loc=1.06, scale=np.sqrt(0.8)))"
   ]
  },
  {
   "cell_type": "markdown",
   "metadata": {},
   "source": [
    "## Q3(c)\n",
    "Let's first write the joint distribution of $[x, y_1, y_2]^T$:\n",
    "\\begin{align*}\n",
    "\\begin{bmatrix}x \\\\ y_1 \\\\ y_2\\end{bmatrix} = \n",
    "\\begin{bmatrix}I & 0 & 0 \\\\ I & I & 0\\\\ I & 0 & I\\end{bmatrix} \\begin{bmatrix}x \\\\ w_1 \\\\ w_2\\end{bmatrix} = A\\textbf{x}\n",
    "\\sim \\mathcal{N}\\left(\\begin{bmatrix}\\mu_x\\\\\\mu_x+\\mu_{w_1} \\\\ \\mu_x+\\mu_{w_2}\\end{bmatrix},\n",
    "A\\begin{bmatrix}\\sigma_x^2 & & \\\\ & \\sigma_{w_1}^2 & \\\\ & & \\sigma_{w_2}^2\\end{bmatrix}A^T\\right)\n",
    "\\end{align*}\n",
    "where the covariance of the joint distribution could be written as:\n",
    "$$\n",
    "A\\begin{bmatrix}\\Sigma_x & & \\\\ & \\Sigma_{w_1} & \\\\ & & \\Sigma_{w_2}\\end{bmatrix}A^T = \n",
    "\\left[\\begin{array}{c|cc}\n",
    "\\sigma_x^2 & \\sigma_x^2 & \\sigma_x^2 \\\\\n",
    "\\hline\n",
    "\\sigma_x^2 & \\sigma_x^2 + \\sigma_{w_1}^2 & \\sigma_x^2 \\\\\n",
    "\\sigma_x^2 &  \\sigma_x^2 & \\sigma_x^2 + \\sigma_{w_2^2} \n",
    "\\end{array}\\right]\n",
    "$$\n",
    "We can think group $y_1$ and $y_2$ together within a measurement vector $\\textbf{y}$. Then we have the following covariance matrices:\n",
    "$$\n",
    "\\Sigma_{x\\textbf{y}} = [\\sigma_x^2 \\; \\sigma_x^2]\\\\\n",
    "\\Sigma_{\\textbf{y}} = \n",
    "\\begin{bmatrix}\n",
    "\\sigma_x^2+\\sigma_{w_1}^2 & \\sigma_x^2 \\\\\n",
    "\\sigma_x^2 & \\sigma_x^2+\\sigma_{w_2}^2\n",
    "\\end{bmatrix} = \n",
    "\\begin{bmatrix}\n",
    "\\sigma_x^2& \\sigma_x^2 \\\\\n",
    "\\sigma_x^2 & \\sigma_x^2\n",
    "\\end{bmatrix} + \\sigma_w^2I\n",
    "$$\n",
    "Based on the alternative equation of mean and covariance of conditional probability:\n",
    "\\begin{align*}\n",
    "E(x|y) &= \\mu_x + (A^T\\Sigma_w^{-1}A+\\Sigma_x^{-1})^{-1}A^T\\Sigma_w^{-1}(y-A\\mu_x)\\\\\n",
    "&=\\mu_x + (\\frac{2}{\\sigma_w^2}+\\frac{1}{\\sigma_x^2})^{-1}[1 \\; 1]\\frac{1}{\\sigma_w^2}I(y-\\begin{bmatrix}1 \\\\ 1\\end{bmatrix}\\mu_x) \\\\\n",
    "&=\\mu_x + (\\frac{2}{\\sigma_w^2}+\\frac{1}{\\sigma_x^2})^{-1}\\frac{1}{\\sigma_w^2}I(y_1+y_2-2\\mu_x)\\\\\n",
    "&=0.5 + (2 + 0.25)^{-1}\\times0.5\\times(0.7 -1)\\\\\n",
    "&=0.3666\\\\\n",
    "Cov(x|y)^{-1} &= \\Sigma_x^{-1} + A^T\\Sigma_w^{-1}A \\\\\n",
    "&= \\frac{1}{\\sigma_x^2} + [1 \\;1]\\frac{1}{\\sigma_w^2}I\\begin{bmatrix}1\\\\1\\end{bmatrix} \\\\\n",
    "&= 0.25 + 2 \\\\\n",
    "&= 2.25 \\\\\n",
    "\\Rightarrow Cov(x|y) &= 0.444\n",
    "\\end{align*}"
   ]
  },
  {
   "cell_type": "code",
   "execution_count": 43,
   "metadata": {},
   "outputs": [
    {
     "name": "stdout",
     "output_type": "stream",
     "text": [
      "The 95% interval is:  (-0.9399891716198076, 1.6719891716198076)\n"
     ]
    }
   ],
   "source": [
    "print('The 95% interval is: ', scipy.stats.norm.interval(0.95, loc=0.366, scale=np.sqrt(0.444)))"
   ]
  },
  {
   "cell_type": "markdown",
   "metadata": {},
   "source": [
    "## Q3(d)\n",
    "To solve this question, we refer to the solution from Q3(e)"
   ]
  },
  {
   "cell_type": "markdown",
   "metadata": {},
   "source": [
    "$$\n",
    "\\mathbf{Cov}(x|y)_n = (\\frac{1}{\\sigma_x^2} + \\frac{n}{\\sigma_w^2})^{-1} \\tag{1}\n",
    "$$\n",
    "\n",
    "To ensure the 95% confidence interval is $[-0.01, 0.01]$, we need to make Eq.(1) equal to $(0.01/1.96)^2$:\n",
    "$$\n",
    "\\mathbf{Cov}(x|y)_n = (\\frac{1}{\\sigma_x^2} + \\frac{n}{\\sigma_w^2})^{-1} = (\\frac{0.01}{1.96})^2\n",
    "$$\n",
    "Solve for $n$ and we get $n= 38415.74$.\n",
    "So we need at least $n=38416$ measurements to reach the required confidence interval."
   ]
  },
  {
   "cell_type": "markdown",
   "metadata": {},
   "source": [
    "## Q3(e)\n",
    "\\begin{align*}\n",
    "\\mathbf{E}(x|y)_n &= \\mu_x + (A^T\\Sigma_w^{-1}A+\\Sigma_x^{-1})^{-1}A^T\\Sigma_w^{-1}(y-A\\mu_x)\\\\\n",
    "&=\\mu_x + (\\frac{1}{\\sigma_w^2}A^TA+\\frac{1}{\\sigma_x^2})^{-1}\\frac{1}{\\sigma_w^2}A^T(y-A\\mu_x) \\\\\n",
    "&=\\mu_x + (\\frac{n}{\\sigma_w^2}+\\frac{1}{\\sigma_x^2})^{-1}\\frac{1}{\\sigma_w^2}(\\sum_{i=1}^{n}y_i-n\\mu_x) \\;\\;\\;(A=[1,1,\\ldots, 1]^T)\\\\\n",
    "\\\\\n",
    "\\mathbf{Cov}(x|y)^{-1}_n &= \\Sigma_x^{-1} + A^T\\Sigma_w^{-1}A \\\\\n",
    "&= \\frac{1}{\\sigma_x^2} + \\frac{1}{\\sigma_w^2}A^TA  \\;\\;\\;(A=[1,1,\\ldots, 1]^T)\\\\\\\\\n",
    "&= \\frac{1}{\\sigma_x^2} + \\frac{n}{\\sigma_w^2} \\\\\n",
    "\\Rightarrow \\mathbf{Cov}(x|y)_n &= (\\frac{1}{\\sigma_x^2} + \\frac{n}{\\sigma_w^2})^{-1}\n",
    "\\end{align*}\n",
    "We can actually see that:\n",
    "$$\\mathbf{E}(x|y)_n = \\mu_x + \\frac{1}{\\sigma_w^2}\\mathbf{Cov}(x|y)_n(\\sum_{i=1}^{n}y_i-n\\mu_x)\n",
    "$$"
   ]
  },
  {
   "cell_type": "markdown",
   "metadata": {},
   "source": [
    "When $n \\to \\infty$, we have \n",
    "$$\\lim_{n\\to\\infty} \\mathbf{Cov}(x|y)_n = 0\n",
    "\\\\\n",
    "\\lim_{n\\to\\infty} \\mathbf{E}(x|y)_n = \\lim_{n\\to\\infty}(\\mu_x + \\frac{\\sigma_x^2\\sum_{i=1}^{n}y_i}{n\\sigma_x^2+\\sigma_w^2} - \\frac{n\\sigma_x^2\\mu_x}{n\\sigma_x^2+\\sigma_w^2}) = \\mu_x + \\lim_{n\\to\\infty}(\\frac{\\sum_{i=1}^{n}y_i}{n}) - \\mu_x = \\lim_{n\\to\\infty}(\\frac{\\sum_{i=1}^{n}y_i}{n})\n",
    "$$\n",
    "The estimation error will eventually reach 0 while the estimator will be mean value of measurements."
   ]
  },
  {
   "cell_type": "markdown",
   "metadata": {},
   "source": [
    "When $\\sigma_x\\to\\infty$, we have:\n",
    "$$\\lim_{\\sigma_x\\to\\infty} \\mathbf{Cov}(x|y)_n = \\frac{\\sigma_w^2}{n}\\\\\n",
    "\\lim_{\\sigma_x\\to\\infty} \\mathbf{E}(x|y)_n = \\mu_x + \\frac{1}{n}(\\sum_{i=1}^{n}y_i-n\\mu_x) = \\frac{1}{n}\\sum_{i=1}^n y_i\n",
    "$$\n",
    "The estimation error will be purely from measurement noise and the estimator will be the mean value of measurements."
   ]
  },
  {
   "cell_type": "markdown",
   "metadata": {},
   "source": [
    "## Q3(f)\n"
   ]
  },
  {
   "cell_type": "markdown",
   "metadata": {},
   "source": [
    "The recursive estimator I obtained is:\n",
    "\\begin{align}\n",
    "\\hat{x}_{k+1} &= \\hat{x}_k + \\frac{\\hat{\\sigma}_{k}^2}{\\hat{\\sigma}_{k}^2+\\sigma_w^2}(y_{k+1}-y_k)  \\tag{2}\\\\\n",
    "\\hat{\\sigma}_{k+1}^2 &= \\hat{\\sigma}_{k}^2 - \\frac{\\hat{\\sigma}_{k}^2}{\\hat{\\sigma}_{k}^2+\\sigma_w^2}\\hat{\\sigma}_{k}^2 = \\frac{\\sigma_{w}^2}{\\hat{\\sigma}_{k}^2+\\sigma_w^2}\\hat{\\sigma}_{k}^2\\tag{3}\n",
    "\\end{align}\n",
    "\n",
    "First, we prove the recursive estimator for covariance matrix holds using induction. To prove Eq.(3), it is easier to prove the inverse of covariance matrix, the information matrix $I = \\Sigma^{-1}$. The recursive estimator for information matrix $I_k$ is:\n",
    "$$\n",
    "I_{k+1} = (\\sigma_{k+1}^2)^{-1} = (\\sigma_k^2)^{-1} + (\\sigma_w^2)^{-1} = I_k + I_w.\n",
    "$$\n",
    "**Proof:** We will prove that for all $n\\in\\mathbb{Z}^+$,\n",
    "$$\n",
    "I_{n+1} = (\\sigma_x^2)^{-1} + nI_w \\tag{4}\n",
    "$$\n",
    "\n",
    "**Base case:**  \n",
    "When $n=0$, $I_1 = I_0$, where $I_0 = (\\sigma_x^2)^{-1}$. So Eq.(4) holds true. \n",
    "\n",
    "**Induction steps:**  \n",
    "Let $k\\in\\mathbb{z}^+$ be given and suppose Eq.(4) is true for $n=k$. Then\n",
    "\\begin{align*}\n",
    "I_k + I_w&= I_0 + kI_w + I_w \\\\\n",
    "&= I_0 + (k+1)I_w \\\\\n",
    "&= I_{k+1} \\;\\;\\;\\;\\;\\;\\;\\;\\; \\text{(by recursive estimator)}.\n",
    "\\end{align*}\n",
    "Thus, Eq.(4) holds true for $n=k+1$, and the proof of the induction step is complete.\n",
    "\n",
    "**Conclusion:** By the principle of induction, Eq.(4) is true for all $n\\in\\mathbb{Z}^+$.\n"
   ]
  },
  {
   "cell_type": "markdown",
   "metadata": {},
   "source": [
    "Next, we prove Eq.(2) using induction. \n",
    "\n",
    "**Proof:** We will prove that for all $n\\in\\mathbb{Z}^+$,\n",
    "$$\n",
    "\\hat{x}_n = \\mu_x + (\\frac{n}{\\sigma_w^2}+\\frac{1}{\\sigma_x^2})^{-1}\\frac{1}{\\sigma_w^2}(\\sum_{i=1}^{n}y_i-n\\mu_x)  \\tag{5}\n",
    "$$\n",
    "\n",
    "**Base case:**  \n",
    "When $n=1$, $\\hat{x}_1 = \\mu_x + \\frac{\\sigma_x^2}{\\sigma_w^2+\\sigma_x^2}(y_1-\\mu_x)$. So Eq.(4) holds true. \n",
    "\n",
    "**Induction steps:**  \n",
    "Let $k\\in\\mathbb{z}^+$ be given and suppose Eq.(4) is true for $n=k$. Then\n",
    "\\begin{align*}\n",
    "\\hat{x}_{k+1} &= \\hat{x}_k + \\frac{\\hat{\\sigma}_{k}^2}{\\hat{\\sigma}_{k}^2+\\sigma_w^2}(y_{k+1}-y_k)\\;\\;\\;\\; \\text{(by recursive estimator)} \\\\\n",
    "&= \\frac{\\sigma_w^2}{\\sigma_k^2+\\sigma_w^2}(\\mu_x+\\frac{\\sigma_k^2}{\\sigma_w^2}(\\sum^k_{i=1}y_i-k\\mu_x))+\\frac{\\sigma_k^2}{\\sigma_k^2+\\sigma_w^2}y_{k+1} \\\\\n",
    "&= \\frac{\\sigma_w^2}{\\sigma_k^2+\\sigma_w^2}\\mu_x + \\frac{\\sigma_{k+1}^2}{\\sigma_w^2}(\\sum^k_{i=1}y_i-k\\mu_x) + \n",
    "\\frac{\\sigma_k^2}{\\sigma_k^2+\\sigma_w^2}y_{k+1}\\;\\;\\text{(by covariance recursive estimator Eq.(3))} \\\\\n",
    "&= \\frac{\\sigma_w^2}{\\sigma_k^2+\\sigma_w^2}\\mu_x + \\frac{\\sigma_{k+1}^2}{\\sigma_w^2}(\\sum^k_{i=1}y_i-k\\mu_x) +\n",
    "\\frac{1}{\\sigma_w^2}\\frac{\\sigma_w^2}{\\sigma_k^2+\\sigma_w^2}\\sigma_k^2y_{k+1} \\\\\n",
    "&= \\frac{\\sigma_w^2}{\\sigma_k^2+\\sigma_w^2}\\mu_x + \\frac{\\sigma_{k+1}^2}{\\sigma_w^2}(\\sum^k_{i=1}y_i-k\\mu_x) +\n",
    "\\frac{1}{\\sigma_w^2}\\sigma_{k+1}^2y_{k+1}\\;\\;\\text{(by covariance recursive estimator Eq.(3))} \\\\\n",
    "&= \\frac{\\sigma_w^2}{\\sigma_k^2+\\sigma_w^2}\\mu_x + \\frac{\\sigma_{k+1}^2}{\\sigma_w^2}(\\sum_{i=1}^{k+1}y_i-(k+1)\\mu_x)+\\frac{1}{\\sigma_w^2}\\sigma_{k+1}^2\\mu_x\\\\\n",
    "&= \\frac{\\sigma_w^2}{\\sigma_k^2+\\sigma_w^2}\\mu_x + \\frac{\\sigma_k^2}{\\sigma_k^2+\\sigma_w^2}\\mu_x + \\frac{\\sigma_{k+1}^2}{\\sigma_w^2}(\\sum_{i=1}^{k+1}y_i-(k+1)\\mu_x)\\\\\n",
    "&= \\mu_x + \\frac{\\sigma_{k+1}^2}{\\sigma_w^2}(\\sum_{i=1}^{k+1}y_i-(k+1)\\mu_x)\\\\\n",
    "&= \\hat{x}_{k+1}\n",
    "\\end{align*}\n",
    "Thus, Eq.(5) holds true for $n=k+1$, and the proof of the induction step is complete.\n",
    "\n",
    "**Conclusion:** By the principle of induction, Eq.(5) is true for all $n\\in\\mathbb{Z}^+$.\n"
   ]
  },
  {
   "cell_type": "markdown",
   "metadata": {},
   "source": [
    "## Q4\n"
   ]
  },
  {
   "cell_type": "code",
   "execution_count": 122,
   "metadata": {},
   "outputs": [
    {
     "name": "stdout",
     "output_type": "stream",
     "text": [
      "mu:\n",
      " [[-4.351    ]\n",
      " [-4.7385446]]\n",
      "sigma:\n",
      " [[ 1.         -0.57735027]\n",
      " [-0.57735027  1.66666667]]\n",
      "---------------------------------\n",
      "mu:\n",
      " [[-4.24873382]\n",
      " [-4.47496883]]\n",
      "sigma:\n",
      " [[ 0.88918328 -0.86296377]\n",
      " [-0.86296377  0.93054064]]\n",
      "---------------------------------\n",
      "mu:\n",
      " [[-4.80418406]\n",
      " [-3.43314174]]\n",
      "sigma:\n",
      " [[ 0.16654661 -0.08373894]\n",
      " [-0.08373894  0.09029636]]\n",
      "---------------------------------\n",
      "mu:\n",
      " [[-5.04194616]\n",
      " [-3.23272823]]\n",
      "sigma:\n",
      " [[ 0.04707233 -0.00066286]\n",
      " [-0.00066286  0.03252966]]\n",
      "---------------------------------\n",
      "mu:\n",
      " [[-5.01075451]\n",
      " [-3.23763964]]\n",
      "sigma:\n",
      " [[ 0.00824784 -0.00011614]\n",
      " [-0.00011614  0.03252196]]\n",
      "---------------------------------\n"
     ]
    },
    {
     "data": {
      "image/png": "[encoded data removed]",
      "text/plain": [
       "<Figure size 1080x1080 with 1 Axes>"
      ]
     },
     "metadata": {
      "needs_background": "light"
     },
     "output_type": "display_data"
    }
   ],
   "source": [
    "def estimation_position(A, iw, y):\n",
    "    mu = np.linalg.solve(A.T@A, A.T@y)\n",
    "    sigma = np.linalg.inv(A.T@iw@A)\n",
    "    return mu, sigma\n",
    "    \n",
    "def plot_ellipse(ax, mu, sigma, i, color):\n",
    "    # Another way to plot ellipse: https://www.visiondummy.com/2014/04/draw-error-ellipse-representing-covariance-matrix/#google_vignette\n",
    "    # Calculate major and minor axes\n",
    "    u, s, vt = np.linalg.svd(sigma)\n",
    "    t = np.linspace(0, 2*np.pi, 200)\n",
    "    chi_square_var = stats.chi2.ppf(0.95, 2)\n",
    "    major = np.sqrt(s[0] *chi_square_var)\n",
    "    minor = np.sqrt(s[1] *chi_square_var)\n",
    "    x = major * np.cos(t)[:,np.newaxis]\n",
    "    y = minor * np.sin(t)[:,np.newaxis]\n",
    "    \n",
    "    theta = np.arctan2(u[0][1], u[0][0])\n",
    "    # Left multiplication rotation matrix\n",
    "    R = np.array([[\n",
    "        np.cos(theta), -np.sin(theta)\n",
    "    ],[\n",
    "        np.sin(theta), np.cos(theta)\n",
    "    ]])\n",
    "    \n",
    "    rot_p = R@(np.hstack((x,y)).T)\n",
    "    trans_p = rot_p + mu\n",
    "    ax.fill(trans_p[0],trans_p[1],label=f'measurement {i}', color=color)\n",
    "    ax.plot(mu[0], mu[1], 'x', color='red')\n",
    "    \n",
    "    \n",
    "# Prepare data\n",
    "theta = [0, 60, 225, 90, 135, 0]\n",
    "A_list = [[np.cos(t*np.pi/180), np.sin(t*np.pi/180)] for t in theta]\n",
    "A = -np.array(A_list)\n",
    "iw = np.diag([1,1,1/0.05,1/0.1,1/0.05,1/0.01])\n",
    "y = np.array([4.3510, 6.2792, -5.8264, 2.6491, -1.6033, 4.9427])[:, np.newaxis]\n",
    "\n",
    "\n",
    "# Estimate position\n",
    "fig = plt.figure(figsize=(15,15))\n",
    "ax = fig.add_subplot(1,1,1)\n",
    "color_map = plt.cm.get_cmap('jet')\n",
    "colors = [color_map(i/10) for i in range(10)]\n",
    "\n",
    "for i in range(2, 7):\n",
    "    x, sigma = estimation_position(A[0:i,0:i], iw[0:i,0:i], y[0:i])\n",
    "    print('mu:\\n', x)\n",
    "    print('sigma:\\n', sigma)\n",
    "    print(\"---------------------------------\")\n",
    "    plot_ellipse(ax, x, sigma, i, colors[i])\n",
    "\n",
    "plt.axis('equal')\n",
    "plt.legend()\n",
    "plt.show()"
   ]
  },
  {
   "cell_type": "markdown",
   "metadata": {},
   "source": [
    "The $\\mathrm{MMSE}$ after 6 measurements is:\n",
    "$$\n",
    "\\mathrm{MMSE} = \\mathrm{Tr}(\\mathrm{Cov}(x|y)) = 0.03332\n",
    "$$"
   ]
  }
 ],
 "metadata": {
  "kernelspec": {
   "display_name": "Python 3",
   "language": "python",
   "name": "python3"
  },
  "language_info": {
   "codemirror_mode": {
    "name": "ipython",
    "version": 3
   },
   "file_extension": ".py",
   "mimetype": "text/x-python",
   "name": "python",
   "nbconvert_exporter": "python",
   "pygments_lexer": "ipython3",
   "version": "3.8.5"
  }
 },
 "nbformat": 4,
 "nbformat_minor": 4
}
