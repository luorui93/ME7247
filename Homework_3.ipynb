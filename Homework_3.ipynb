{
 "cells": [
  {
   "cell_type": "code",
   "execution_count": 2,
   "metadata": {},
   "outputs": [],
   "source": [
    "import numpy as np\n",
    "import matplotlib.pyplot as plt\n",
    "from scipy.linalg import sqrtm\n",
    "\n",
    "plt.rcParams.update({\n",
    "    \"text.usetex\": True,\n",
    "    \"font.size\": 12,\n",
    "    \"font.family\": \"sans-serif\",\n",
    "    \"font.sans-serif\": [\"Helvetica\"],\n",
    "    \"text.latex.preamble\": r'\\usepackage{amsfonts}'}\n",
    ")\n"
   ]
  },
  {
   "cell_type": "markdown",
   "metadata": {},
   "source": [
    "## Q1(a)\n",
    "The normal equation for least square problem is: \n",
    "$$A^TAx = A^Tb$$\n",
    "Since we only have $k$ measurements, substitute the new $A$ and $b$ we can get:\n",
    "$$[\\tilde{a}_1 \\tilde{a}_2 \\ldots \\tilde{a}_k]\\begin{bmatrix}\n",
    "\\tilde{a}^T_1 \\\\ \\tilde{a}^T_2 \\\\ \\vdots \\\\ \\tilde{a}^T_k\n",
    "\\end{bmatrix}x = [\\tilde{a}_1 \\tilde{a}_2 \\ldots \\tilde{a}_k]\\begin{bmatrix}\n",
    "b_1 \\\\ b_2 \\\\ \\vdots \\\\ b_k\n",
    "\\end{bmatrix}$$\n",
    "Expand the above equation and substitue $x = \\hat{x}_k$, we have:\n",
    "$$\n",
    "\\left(\\sum_{i=1}^k\\tilde{a}_i\\tilde{a}_i^T\\right)\\hat{x}_k = \\sum_{i=1}^kb_i\\tilde{a}_i\\tag*{$\\blacksquare$}\n",
    "$$\n"
   ]
  },
  {
   "cell_type": "markdown",
   "metadata": {},
   "source": [
    "## Q1(b)\n",
    "Given the matrix inversion lemma:\n",
    "$$ \\left(A-BD^{-1}C\\right)^{-1} = A^{-1} + A^{-1}B\\left(D-CA^{-1}B\\right)^{-1}C$$\n",
    "Let $A = P_k, B=-\\tilde{a}_{k+1}, C=\\tilde{a}_{k+1}^T, D=1$\n",
    "We can rewrite the update of $P_{k+1}^{-1}$ as:\n",
    "\\begin{align*} \n",
    "(P_k + \\tilde{a}_{k+1}\\tilde{a}^T_{k+1})^{-1} & = P_k^{-1} - P_k^{-1}\\tilde{a}_{k+1}(1+\\tilde{a}_{k+1}^TP_k^{-1}\\tilde{a}_{k+1})\\tilde{a}_{k+1}^T \\\\\n",
    "&=P_k^{-1} - P_k^{-1}\\frac{\\tilde{a}_{k+1}\\tilde{a}_{k+1}^T}{1 + \\tilde{a}_{k+1}^TP^{-1}_k \\tilde{a}_{k+1}}\n",
    "\\end{align*}\n",
    "\n",
    "Because $\\tilde{a}_{k+1}^TP^{-1}_k \\tilde{a}_{k+1}$ is a scalar, so we only need to calculate the inverse of a scalar instead of a matrix, which saves computation a lot."
   ]
  },
  {
   "cell_type": "code",
   "execution_count": 6,
   "metadata": {},
   "outputs": [
    {
     "data": {
      "text/plain": [
       "1"
      ]
     },
     "execution_count": 6,
     "metadata": {},
     "output_type": "execute_result"
    }
   ],
   "source": []
  }
 ],
 "metadata": {
  "kernelspec": {
   "display_name": "Python 3",
   "language": "python",
   "name": "python3"
  },
  "language_info": {
   "codemirror_mode": {
    "name": "ipython",
    "version": 3
   },
   "file_extension": ".py",
   "mimetype": "text/x-python",
   "name": "python",
   "nbconvert_exporter": "python",
   "pygments_lexer": "ipython3",
   "version": "3.8.5"
  }
 },
 "nbformat": 4,
 "nbformat_minor": 4
}
